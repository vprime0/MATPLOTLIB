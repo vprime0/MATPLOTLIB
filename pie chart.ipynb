{
 "cells": [
  {
   "cell_type": "code",
   "execution_count": 116,
   "metadata": {},
   "outputs": [
    {
     "data": {
      "text/plain": [
       "Unnamed: 0                  4211\n",
       "ID                          4211\n",
       "Name                        4211\n",
       "Age                         4211\n",
       "Photo                       4211\n",
       "Nationality                 4211\n",
       "Flag                        4211\n",
       "Overall                     4211\n",
       "Potential                   4211\n",
       "Club                        4162\n",
       "Club Logo                   4211\n",
       "Value                       4211\n",
       "Wage                        4211\n",
       "Special                     4211\n",
       "Preferred Foot              4211\n",
       "International Reputation    4211\n",
       "Weak Foot                   4211\n",
       "Skill Moves                 4211\n",
       "Work Rate                   4211\n",
       "Body Type                   4211\n",
       "Real Face                   4211\n",
       "Position                    4209\n",
       "Jersey Number               4209\n",
       "Joined                      3823\n",
       "Loaned From                  339\n",
       "Contract Valid Until        4162\n",
       "Height                      4211\n",
       "Weight                      4211\n",
       "LS                          4003\n",
       "ST                          4003\n",
       "                            ... \n",
       "Dribbling                   4211\n",
       "Curve                       4211\n",
       "FKAccuracy                  4211\n",
       "LongPassing                 4211\n",
       "BallControl                 4211\n",
       "Acceleration                4211\n",
       "SprintSpeed                 4211\n",
       "Agility                     4211\n",
       "Reactions                   4211\n",
       "Balance                     4211\n",
       "ShotPower                   4211\n",
       "Jumping                     4211\n",
       "Stamina                     4211\n",
       "Strength                    4211\n",
       "LongShots                   4211\n",
       "Aggression                  4211\n",
       "Interceptions               4211\n",
       "Positioning                 4211\n",
       "Vision                      4211\n",
       "Penalties                   4211\n",
       "Composure                   4211\n",
       "Marking                     4211\n",
       "StandingTackle              4211\n",
       "SlidingTackle               4211\n",
       "GKDiving                    4211\n",
       "GKHandling                  4211\n",
       "GKKicking                   4211\n",
       "GKPositioning               4211\n",
       "GKReflexes                  4211\n",
       "Release Clause              3820\n",
       "Length: 89, dtype: int64"
      ]
     },
     "execution_count": 116,
     "metadata": {},
     "output_type": "execute_result"
    }
   ],
   "source": [
    "import matplotlib.pyplot as plt\n",
    "import numpy as np\n",
    "import pandas as pd\n",
    "\n",
    "\n",
    "left=fifa[fifa[\"Preferred Foot\"]==\"Left\"].count()\n",
    "left"
   ]
  },
  {
   "cell_type": "code",
   "execution_count": 113,
   "metadata": {},
   "outputs": [
    {
     "data": {
      "text/plain": [
       "4211"
      ]
     },
     "execution_count": 113,
     "metadata": {},
     "output_type": "execute_result"
    }
   ],
   "source": [
    "left=fifa.loc[fifa[\"Preferred Foot\"]==\"Left\"].count()[0]\n",
    "left"
   ]
  },
  {
   "cell_type": "code",
   "execution_count": 114,
   "metadata": {},
   "outputs": [
    {
     "data": {
      "text/plain": [
       "13948"
      ]
     },
     "execution_count": 114,
     "metadata": {},
     "output_type": "execute_result"
    }
   ],
   "source": [
    "right=fifa.loc[fifa[\"Preferred Foot\"]==\"Right\"].count()[0]\n",
    "right"
   ]
  },
  {
   "cell_type": "code",
   "execution_count": 115,
   "metadata": {},
   "outputs": [
    {
     "data": {
      "image/png": "[encoded data removed]",
      "text/plain": [
       "<Figure size 432x288 with 1 Axes>"
      ]
     },
     "metadata": {},
     "output_type": "display_data"
    }
   ],
   "source": [
    "plt.pie([left,right],labels=[\"left\",\"right\"],autopct=\"%2f%%\",colors=[\"#36d162\",\"#05290f\"])\n",
    "plt.show()"
   ]
  },
  {
   "cell_type": "code",
   "execution_count": null,
   "metadata": {},
   "outputs": [],
   "source": []
  },
  {
   "cell_type": "code",
   "execution_count": null,
   "metadata": {},
   "outputs": [],
   "source": []
  },
  {
   "cell_type": "code",
   "execution_count": null,
   "metadata": {},
   "outputs": [],
   "source": []
  },
  {
   "cell_type": "code",
   "execution_count": null,
   "metadata": {},
   "outputs": [],
   "source": []
  },
  {
   "cell_type": "code",
   "execution_count": null,
   "metadata": {},
   "outputs": [],
   "source": []
  }
 ],
 "metadata": {
  "kernelspec": {
   "display_name": "Python 3",
   "language": "python",
   "name": "python3"
  },
  "language_info": {
   "codemirror_mode": {
    "name": "ipython",
    "version": 3
   },
   "file_extension": ".py",
   "mimetype": "text/x-python",
   "name": "python",
   "nbconvert_exporter": "python",
   "pygments_lexer": "ipython3",
   "version": "3.7.3"
  }
 },
 "nbformat": 4,
 "nbformat_minor": 2
}
